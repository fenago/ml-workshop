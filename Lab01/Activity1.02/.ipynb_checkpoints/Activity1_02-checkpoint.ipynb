{
 "cells": [
  {
   "cell_type": "code",
   "execution_count": null,
   "metadata": {},
   "outputs": [],
   "source": [
    "import seaborn as sns\n",
    "from sklearn.preprocessing import LabelEncoder\n",
    "titanic = sns.load_dataset('titanic')\n",
    "X = titanic[['sex','age','fare','class','embark_town','alone']].copy()\n",
    "X.shape"
   ]
  },
  {
   "cell_type": "markdown",
   "metadata": {},
   "source": [
    "### Missing Values"
   ]
  },
  {
   "cell_type": "code",
   "execution_count": null,
   "metadata": {},
   "outputs": [],
   "source": [
    "print(\"Sex: \" + str(X['sex'].isnull().sum()))\n",
    "print(\"Age: \" + str(X['age'].isnull().sum()))\n",
    "print(\"Fare: \" + str(X['fare'].isnull().sum()))\n",
    "print(\"Class: \" + str(X['class'].isnull().sum()))\n",
    "print(\"Embark town: \" + str(X['embark_town'].isnull().sum()))\n",
    "print(\"Alone: \" + str(X['alone'].isnull().sum()))"
   ]
  },
  {
   "cell_type": "code",
   "execution_count": null,
   "metadata": {},
   "outputs": [],
   "source": [
    "mean = X['age'].mean()\n",
    "mean = round(mean)\n",
    "X['age'].fillna(mean,inplace = True)"
   ]
  },
  {
   "cell_type": "markdown",
   "metadata": {},
   "source": [
    "### Outliers"
   ]
  },
  {
   "cell_type": "code",
   "execution_count": null,
   "metadata": {},
   "outputs": [],
   "source": [
    "features = [\"age\", \"fare\"]\n",
    "for feature in features:\n",
    "    min_ = X[feature].mean() - (3 * X[feature].std())\n",
    "    max_ = X[feature].mean() + (3 * X[feature].std())\n",
    "    X = X[X[feature] <= max_]\n",
    "    X = X[X[feature] >= min_]\n",
    "    print(feature, \":\", X.shape)"
   ]
  },
  {
   "cell_type": "code",
   "execution_count": null,
   "metadata": {},
   "outputs": [],
   "source": [
    "features = [\"sex\", \"class\", \"embark_town\", \"alone\"]\n",
    "for feature in features:\n",
    "    count_ = X[feature].value_counts()\n",
    "    print(feature)\n",
    "    print(count_, \"\\n\")"
   ]
  },
  {
   "cell_type": "markdown",
   "metadata": {},
   "source": [
    "### Categorical to numeric"
   ]
  },
  {
   "cell_type": "code",
   "execution_count": null,
   "metadata": {},
   "outputs": [],
   "source": [
    "enc = LabelEncoder()"
   ]
  },
  {
   "cell_type": "code",
   "execution_count": null,
   "metadata": {},
   "outputs": [],
   "source": [
    "X[\"sex\"] = enc.fit_transform(X['sex'].astype('str'))\n",
    "X[\"class\"] = enc.fit_transform(X['class'].astype('str'))\n",
    "X[\"embark_town\"] = enc.fit_transform(X['embark_town'].astype('str'))\n",
    "X[\"alone\"] = enc.fit_transform(X['alone'].astype('str'))"
   ]
  },
  {
   "cell_type": "code",
   "execution_count": null,
   "metadata": {},
   "outputs": [],
   "source": [
    "X.head()"
   ]
  },
  {
   "cell_type": "markdown",
   "metadata": {},
   "source": [
    "### Rescaling"
   ]
  },
  {
   "cell_type": "code",
   "execution_count": null,
   "metadata": {},
   "outputs": [],
   "source": [
    "X = (X - X.min()) / (X.max() - X.min())\n",
    "X.head(10)"
   ]
  },
  {
   "cell_type": "code",
   "execution_count": null,
   "metadata": {},
   "outputs": [],
   "source": []
  }
 ],
 "metadata": {
  "kernelspec": {
   "display_name": "Python 3",
   "language": "python",
   "name": "python3"
  },
  "language_info": {
   "codemirror_mode": {
    "name": "ipython",
    "version": 3
   },
   "file_extension": ".py",
   "mimetype": "text/x-python",
   "name": "python",
   "nbconvert_exporter": "python",
   "pygments_lexer": "ipython3",
   "version": "3.8.6"
  }
 },
 "nbformat": 4,
 "nbformat_minor": 2
}
