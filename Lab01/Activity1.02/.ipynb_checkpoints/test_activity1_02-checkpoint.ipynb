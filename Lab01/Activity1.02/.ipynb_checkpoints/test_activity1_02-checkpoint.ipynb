{
 "cells": [
  {
   "cell_type": "code",
   "execution_count": 1,
   "metadata": {},
   "outputs": [
    {
     "name": "stderr",
     "output_type": "stream",
     "text": [
      "/home/subhash/anaconda3/lib/python3.7/importlib/_bootstrap.py:219: RuntimeWarning: numpy.ufunc size changed, may indicate binary incompatibility. Expected 192 from C header, got 216 from PyObject\n",
      "  return f(*args, **kwds)\n",
      "/home/subhash/anaconda3/lib/python3.7/importlib/_bootstrap.py:219: RuntimeWarning: numpy.ufunc size changed, may indicate binary incompatibility. Expected 192 from C header, got 216 from PyObject\n",
      "  return f(*args, **kwds)\n",
      "."
     ]
    },
    {
     "name": "stdout",
     "output_type": "stream",
     "text": [
      "importing Jupyter notebook from Activity1_02.ipynb\n",
      "Sex: 0\n",
      "Age: 177\n",
      "Fare: 0\n",
      "Class: 0\n",
      "Embark town: 2\n",
      "Alone: 0\n",
      "age : (884, 6)\n",
      "fare : (864, 6)\n",
      "sex\n",
      "male      562\n",
      "female    302\n",
      "Name: sex, dtype: int64 \n",
      "\n",
      "class\n",
      "Third     489\n",
      "First     192\n",
      "Second    183\n",
      "Name: class, dtype: int64 \n",
      "\n",
      "embark_town\n",
      "Southampton    632\n",
      "Cherbourg      154\n",
      "Queenstown      76\n",
      "Name: embark_town, dtype: int64 \n",
      "\n",
      "alone\n",
      "True     524\n",
      "False    340\n",
      "Name: alone, dtype: int64 \n",
      "\n"
     ]
    },
    {
     "name": "stderr",
     "output_type": "stream",
     "text": [
      "\n",
      "----------------------------------------------------------------------\n",
      "Ran 1 test in 0.146s\n",
      "\n",
      "OK\n"
     ]
    }
   ],
   "source": [
    "import unittest\n",
    "import numpy as np\n",
    "import pandas as pd\n",
    "import numpy.testing as np_testing\n",
    "import pandas.testing as pd_testing\n",
    "import os\n",
    "import import_ipynb\n",
    "import seaborn as sns\n",
    "\n",
    "\n",
    "\n",
    "class Test(unittest.TestCase):\n",
    "\n",
    "    def _dirname_if_file(self, filename):\n",
    "        if os.path.isdir(filename):\n",
    "            return filename\n",
    "        else:\n",
    "            return os.path.dirname(os.path.abspath(filename))\n",
    "\n",
    "    def setUp(self):\n",
    "        import Activity1_02\n",
    "        self.activity = Activity1_02\n",
    "       \n",
    "        self.titanic = sns.load_dataset('titanic')\n",
    "\n",
    "        \n",
    "    def test_input_frames(self):\n",
    "        pd_testing.assert_frame_equal(self.activity.titanic, self.titanic)\n",
    "\n",
    "\n",
    "if __name__ == '__main__':\n",
    "    unittest.main(argv=['first-arg-is-ignored'], exit=False)"
   ]
  }
 ],
 "metadata": {
  "anaconda-cloud": {},
  "kernelspec": {
   "display_name": "Python 3",
   "language": "python",
   "name": "python3"
  },
  "language_info": {
   "codemirror_mode": {
    "name": "ipython",
    "version": 3
   },
   "file_extension": ".py",
   "mimetype": "text/x-python",
   "name": "python",
   "nbconvert_exporter": "python",
   "pygments_lexer": "ipython3",
   "version": "3.7.3"
  }
 },
 "nbformat": 4,
 "nbformat_minor": 1
}
