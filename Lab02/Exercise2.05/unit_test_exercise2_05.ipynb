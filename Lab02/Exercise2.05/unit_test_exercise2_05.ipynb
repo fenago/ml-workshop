{
 "cells": [
  {
   "cell_type": "code",
   "execution_count": 3,
   "metadata": {},
   "outputs": [
    {
     "name": "stderr",
     "output_type": "stream",
     "text": [
      "....\n",
      "----------------------------------------------------------------------\n",
      "Ran 4 tests in 10.820s\n",
      "\n",
      "OK\n"
     ]
    }
   ],
   "source": [
    "import unittest\n",
    "import numpy as np\n",
    "import pandas as pd\n",
    "import numpy.testing as np_testing\n",
    "import pandas.testing as pd_testing\n",
    "import os\n",
    "import import_ipynb\n",
    "from sklearn.cluster import KMeans\n",
    "from sklearn.cluster import MeanShift\n",
    "from sklearn.cluster import DBSCAN\n",
    "from sklearn.metrics import silhouette_score\n",
    "from sklearn.metrics import calinski_harabasz_score\n",
    "import sys\n",
    "\n",
    "class Test(unittest.TestCase):\n",
    "\n",
    "    def _dirname_if_file(self, filename):\n",
    "        if os.path.isdir(filename):\n",
    "            return filename\n",
    "        else:\n",
    "            return os.path.dirname(os.path.abspath(filename))\n",
    "\n",
    "    def setUp(self):    \n",
    "        import Exercise2_05\n",
    "        self.exercise = Exercise2_05\n",
    "       \n",
    "        self.data = pd.read_csv('circles.csv')\n",
    "\n",
    "        \n",
    "    def test_input_frames(self):\n",
    "        pd_testing.assert_frame_equal(self.exercise.data, self.data)\n",
    "\n",
    "\n",
    "    def test_kmeans_score(self):\n",
    "        self.est_kmeans = KMeans(n_clusters=5, random_state=0)\n",
    "        self.est_kmeans.fit(self.data)\n",
    "        self.pred_kmeans = self.est_kmeans.predict(self.data)\n",
    "        \n",
    "        self.kmeans_score = calinski_harabasz_score(self.data, self.pred_kmeans)\n",
    "\n",
    "        np_testing.assert_equal(self.kmeans_score, self.exercise.kmeans_score)\n",
    "\n",
    "    def test_meanshift_score(self):\n",
    "        self.est_meanshift = MeanShift(0.5)\n",
    "        self.est_meanshift.fit(self.data)\n",
    "        self.pred_meanshift = self.est_meanshift.predict(self.data)\n",
    "\n",
    "        self.meanshift_score = calinski_harabasz_score(self.data, self.pred_meanshift)\n",
    "\n",
    "        np_testing.assert_equal(self.meanshift_score, self.exercise.meanshift_score)\n",
    "\n",
    "    def test_dbscan_score(self):\n",
    "        self.est_dbscan = DBSCAN(eps=0.1)\n",
    "        self.pred_dbscan = self.est_dbscan.fit_predict(self.data)\n",
    "\n",
    "        self.dbscan_score = calinski_harabasz_score(self.data, self.pred_dbscan)\n",
    "\n",
    "        np_testing.assert_equal(self.dbscan_score, self.exercise.dbscan_score)\n",
    "\n",
    "\n",
    "if __name__ == '__main__':\n",
    "    unittest.main(argv=['first-arg-is-ignored'], exit=False)"
   ]
  }
 ],
 "metadata": {
  "anaconda-cloud": {},
  "kernelspec": {
   "display_name": "Python 3",
   "language": "python",
   "name": "python3"
  },
  "language_info": {
   "codemirror_mode": {
    "name": "ipython",
    "version": 3
   },
   "file_extension": ".py",
   "mimetype": "text/x-python",
   "name": "python",
   "nbconvert_exporter": "python",
   "pygments_lexer": "ipython3",
   "version": "3.7.3"
  }
 },
 "nbformat": 4,
 "nbformat_minor": 1
}
