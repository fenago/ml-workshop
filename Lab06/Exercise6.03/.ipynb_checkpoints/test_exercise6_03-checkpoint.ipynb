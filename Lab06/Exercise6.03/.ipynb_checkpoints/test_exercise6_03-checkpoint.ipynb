{
 "cells": [
  {
   "cell_type": "code",
   "execution_count": 5,
   "metadata": {},
   "outputs": [
    {
     "name": "stderr",
     "output_type": "stream",
     "text": [
      "/home/subhash/anaconda3/lib/python3.7/site-packages/ipykernel_launcher.py:33: ResourceWarning: unclosed file <_io.BufferedReader name='/home/subhash/packt/The-Machine-Learning-Workshop/Chapter06/Exercise6.03/model_exercise.pkl'>\n",
      "ResourceWarning: Enable tracemalloc to get the object allocation traceback\n",
      ".\n",
      "----------------------------------------------------------------------\n",
      "Ran 1 test in 0.003s\n",
      "\n",
      "OK\n"
     ]
    }
   ],
   "source": [
    "import unittest\n",
    "import numpy as np\n",
    "import pandas as pd\n",
    "import numpy.testing as np_testing\n",
    "import pandas.testing as pd_testing\n",
    "import os,sys\n",
    "import import_ipynb\n",
    "\n",
    "class Test(unittest.TestCase):\n",
    "\n",
    "    def _dirname_if_file(self, filename):\n",
    "        if os.path.isdir(filename):\n",
    "            return filename\n",
    "        else:\n",
    "            return os.path.dirname(os.path.abspath(filename))\n",
    "\n",
    "    def setUp(self):\n",
    "        import Exercise6_03\n",
    "        self.exercise = Exercise6_03\n",
    "\n",
    "        self.a = 1\n",
    "        self.b = 0.56\n",
    "        self.c = 1\n",
    "        self.d = 1\n",
    "        self.e = 1\n",
    "        self.f = 0\n",
    "        self.g  = 1\n",
    "        self.h = -1\n",
    "        self.i = 0.63\n",
    "\n",
    "        self.model = self.exercise.NN_Model()\n",
    "        \n",
    "    def test_model(self):\n",
    "        self.pred = self.pred = self.model.predict(season = self.a, age = self.b, childish = self.c, trauma = self.d, \\\n",
    "                    surgical = self.e, fevers = self.f, alcohol = self.g, smoking = self.h, sitting = self.i)\n",
    "\n",
    "        self.assertEqual(self.pred, self.exercise.pred)\n",
    "\n",
    "if __name__ == '__main__':\n",
    "    unittest.main(argv=['first-arg-is-ignored'], exit=False)"
   ]
  }
 ],
 "metadata": {
  "anaconda-cloud": {},
  "kernelspec": {
   "display_name": "Python 3",
   "language": "python",
   "name": "python3"
  },
  "language_info": {
   "codemirror_mode": {
    "name": "ipython",
    "version": 3
   },
   "file_extension": ".py",
   "mimetype": "text/x-python",
   "name": "python",
   "nbconvert_exporter": "python",
   "pygments_lexer": "ipython3",
   "version": "3.7.3"
  }
 },
 "nbformat": 4,
 "nbformat_minor": 1
}
