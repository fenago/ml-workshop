{
 "cells": [
  {
   "cell_type": "code",
   "execution_count": 3,
   "metadata": {},
   "outputs": [
    {
     "name": "stderr",
     "output_type": "stream",
     "text": [
      "/home/subhash/anaconda3/lib/python3.7/site-packages/ipykernel_launcher.py:40: ResourceWarning: unclosed file <_io.BufferedReader name='/home/subhash/packt/The-Machine-Learning-Workshop/Chapter06/Activity6.03/final_model.pkl'>\n",
      "ResourceWarning: Enable tracemalloc to get the object allocation traceback\n",
      ".\n",
      "----------------------------------------------------------------------\n",
      "Ran 1 test in 0.003s\n",
      "\n",
      "OK\n"
     ]
    }
   ],
   "source": [
    "import unittest\n",
    "import numpy as np\n",
    "import pandas as pd\n",
    "import numpy.testing as np_testing\n",
    "import pandas.testing as pd_testing\n",
    "import os\n",
    "import import_ipynb\n",
    "from trainedModel import NN_Model\n",
    "import sys\n",
    "\n",
    "class Test(unittest.TestCase):\n",
    "\n",
    "    def _dirname_if_file(self, filename):\n",
    "        if os.path.isdir(filename):\n",
    "            return filename\n",
    "        else:\n",
    "            return os.path.dirname(os.path.abspath(filename))\n",
    "\n",
    "    def setUp(self):    \n",
    "        import Activity6_03\n",
    "        self.activity = Activity6_03\n",
    "       \n",
    "        self.age = 42\n",
    "        self.job = 2\n",
    "        self.marital = 0\n",
    "        self.education = 0\n",
    "        self.default = 1\n",
    "        self.balance = 2\n",
    "        self.housing = 1\n",
    "        self.loan = 0\n",
    "        self.day = 5\n",
    "        self.month = 8\n",
    "        self.duration = 380\n",
    "        self.campaign = 1\n",
    "        self.pdays = -1\n",
    "        self.previous = 0\n",
    "\n",
    "        self.model = self.activity.NN_Model()\n",
    "        \n",
    "    def test_model(self):\n",
    "        self.pred = self.model.predict(age=self.age, job=self.job, marital=self.marital, \\\n",
    "                    education=self.education, default=self.default, balance=self.balance, \\\n",
    "                    housing=self.housing, loan=self.loan, day=self.day, month=self.month, \\\n",
    "                    duration=self.duration, campaign=self.campaign, pdays=self.pdays, previous=self.previous)\n",
    "        self.assertEqual(self.pred, self.activity.pred)\n",
    "\n",
    "if __name__ == '__main__':\n",
    "    unittest.main(argv=['first-arg-is-ignored'], exit=False)"
   ]
  }
 ],
 "metadata": {
  "anaconda-cloud": {},
  "kernelspec": {
   "display_name": "Python 3",
   "language": "python",
   "name": "python3"
  },
  "language_info": {
   "codemirror_mode": {
    "name": "ipython",
    "version": 3
   },
   "file_extension": ".py",
   "mimetype": "text/x-python",
   "name": "python",
   "nbconvert_exporter": "python",
   "pygments_lexer": "ipython3",
   "version": "3.7.3"
  }
 },
 "nbformat": 4,
 "nbformat_minor": 1
}
