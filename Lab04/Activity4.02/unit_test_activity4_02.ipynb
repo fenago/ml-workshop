{
 "cells": [
  {
   "cell_type": "code",
   "execution_count": 1,
   "metadata": {},
   "outputs": [
    {
     "name": "stderr",
     "output_type": "stream",
     "text": [
      "."
     ]
    },
    {
     "name": "stdout",
     "output_type": "stream",
     "text": [
      "importing Jupyter notebook from Activity4_02.ipynb\n",
      "(26047, 9) (26047,) (3257, 9) (3257,) (3257, 9) (3257,)\n",
      "[0]\n",
      "[0]\n"
     ]
    },
    {
     "name": "stderr",
     "output_type": "stream",
     "text": [
      ".\n",
      "----------------------------------------------------------------------\n",
      "Ran 2 tests in 0.356s\n",
      "\n",
      "OK\n"
     ]
    }
   ],
   "source": [
    "import unittest\n",
    "import numpy as np\n",
    "import pandas as pd\n",
    "import numpy.testing as np_testing\n",
    "import pandas.testing as pd_testing\n",
    "import os\n",
    "import import_ipynb\n",
    "from sklearn.model_selection import train_test_split\n",
    "from sklearn.tree import DecisionTreeClassifier\n",
    "import sys\n",
    "\n",
    "class Test(unittest.TestCase):\n",
    "\n",
    "    def _dirname_if_file(self, filename):\n",
    "        if os.path.isdir(filename):\n",
    "            return filename\n",
    "        else:\n",
    "            return os.path.dirname(os.path.abspath(filename))\n",
    "\n",
    "    def setUp(self):    \n",
    "        import Activity4_02\n",
    "        self.activity = Activity4_02\n",
    "       \n",
    "        self.data = pd.read_csv(\"census_income_dataset_preprocessed.csv\")\n",
    "        self.X = self.data.drop(\"target\", axis=1)\n",
    "        self.Y = self.data[\"target\"]\n",
    "        self.X_new, self.X_test, self.Y_new, self.Y_test = train_test_split(self.X, self.Y, test_size=0.1, random_state=101)\n",
    "        self.test_size = self.X_test.shape[0] / self.X_new.shape[0]\n",
    "        self.X_train, self.X_dev, self.Y_train, self.Y_dev = train_test_split(self.X_new, self.Y_new, test_size=self.test_size, random_state=101)\n",
    "\n",
    "        \n",
    "    def test_input_frames(self):\n",
    "        pd_testing.assert_frame_equal(self.activity.data, self.data)\n",
    "\n",
    "    def test_model(self):\n",
    "\n",
    "        self.model_tree = DecisionTreeClassifier(random_state=101)\n",
    "        self.model_tree.fit(self.X_train, self.Y_train)\n",
    "        self.pred_2 = self.model_tree.predict([[39,6,13,4,0,2174,0,40,38]])\n",
    "\n",
    "\n",
    "        np_testing.assert_equal(self.pred_2, self.activity.pred_2)\n",
    "\n",
    "if __name__ == '__main__':\n",
    "    unittest.main(argv=['first-arg-is-ignored'], exit=False)"
   ]
  }
 ],
 "metadata": {
  "anaconda-cloud": {},
  "kernelspec": {
   "display_name": "Python 3",
   "language": "python",
   "name": "python3"
  },
  "language_info": {
   "codemirror_mode": {
    "name": "ipython",
    "version": 3
   },
   "file_extension": ".py",
   "mimetype": "text/x-python",
   "name": "python",
   "nbconvert_exporter": "python",
   "pygments_lexer": "ipython3",
   "version": "3.7.3"
  }
 },
 "nbformat": 4,
 "nbformat_minor": 1
}
