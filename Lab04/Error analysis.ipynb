{
 "cells": [
  {
   "cell_type": "markdown",
   "metadata": {},
   "source": [
    "## Activity 4.01"
   ]
  },
  {
   "cell_type": "code",
   "execution_count": 1,
   "metadata": {},
   "outputs": [],
   "source": [
    "import pandas as pd\n",
    "from sklearn.model_selection import train_test_split\n",
    "from sklearn.naive_bayes import GaussianNB"
   ]
  },
  {
   "cell_type": "code",
   "execution_count": 2,
   "metadata": {},
   "outputs": [],
   "source": [
    "data = pd.read_csv(\"census_income_dataset_preprocessed.csv\")"
   ]
  },
  {
   "cell_type": "code",
   "execution_count": 3,
   "metadata": {},
   "outputs": [],
   "source": [
    "X = data.drop(\"target\", axis=1)\n",
    "Y = data[\"target\"]"
   ]
  },
  {
   "cell_type": "code",
   "execution_count": 4,
   "metadata": {},
   "outputs": [
    {
     "name": "stdout",
     "output_type": "stream",
     "text": [
      "(26047, 9) (26047,) (3257, 9) (3257,) (3257, 9) (3257,)\n"
     ]
    }
   ],
   "source": [
    "X_new, X_test, Y_new, Y_test = train_test_split(X, Y, test_size=0.1, random_state=101)\n",
    "test_size = X_test.shape[0] / X_new.shape[0]\n",
    "X_train, X_dev, Y_train, Y_dev = train_test_split(X_new, Y_new, test_size=test_size, random_state=101)\n",
    "print(X_train.shape, Y_train.shape, X_dev.shape, Y_dev.shape, X_test.shape, Y_test.shape)"
   ]
  },
  {
   "cell_type": "code",
   "execution_count": 5,
   "metadata": {},
   "outputs": [
    {
     "data": {
      "text/plain": [
       "GaussianNB(priors=None, var_smoothing=1e-09)"
      ]
     },
     "execution_count": 5,
     "metadata": {},
     "output_type": "execute_result"
    }
   ],
   "source": [
    "model_NB = GaussianNB()\n",
    "model_NB.fit(X_train, Y_train)"
   ]
  },
  {
   "cell_type": "code",
   "execution_count": 6,
   "metadata": {},
   "outputs": [
    {
     "name": "stdout",
     "output_type": "stream",
     "text": [
      "[0]\n"
     ]
    }
   ],
   "source": [
    "pred_1 = model_NB.predict([[39,6,13,4,0,2174,0,40,38]])\n",
    "print(pred_1)"
   ]
  },
  {
   "cell_type": "markdown",
   "metadata": {},
   "source": [
    "## Activity 4.02"
   ]
  },
  {
   "cell_type": "code",
   "execution_count": 7,
   "metadata": {},
   "outputs": [],
   "source": [
    "from sklearn.tree import DecisionTreeClassifier"
   ]
  },
  {
   "cell_type": "code",
   "execution_count": 8,
   "metadata": {},
   "outputs": [
    {
     "data": {
      "text/plain": [
       "DecisionTreeClassifier(ccp_alpha=0.0, class_weight=None, criterion='gini',\n",
       "                       max_depth=None, max_features=None, max_leaf_nodes=None,\n",
       "                       min_impurity_decrease=0.0, min_impurity_split=None,\n",
       "                       min_samples_leaf=1, min_samples_split=2,\n",
       "                       min_weight_fraction_leaf=0.0, presort='deprecated',\n",
       "                       random_state=101, splitter='best')"
      ]
     },
     "execution_count": 8,
     "metadata": {},
     "output_type": "execute_result"
    }
   ],
   "source": [
    "model_tree = DecisionTreeClassifier(random_state=101)\n",
    "model_tree.fit(X_train, Y_train)"
   ]
  },
  {
   "cell_type": "code",
   "execution_count": 9,
   "metadata": {},
   "outputs": [
    {
     "name": "stdout",
     "output_type": "stream",
     "text": [
      "[0]\n"
     ]
    }
   ],
   "source": [
    "pred_2 = model_tree.predict([[39,6,13,4,0,2174,0,40,38]])\n",
    "print(pred_2)"
   ]
  },
  {
   "cell_type": "markdown",
   "metadata": {},
   "source": [
    "## Activity 4.03"
   ]
  },
  {
   "cell_type": "code",
   "execution_count": 10,
   "metadata": {},
   "outputs": [],
   "source": [
    "from sklearn.svm import SVC"
   ]
  },
  {
   "cell_type": "code",
   "execution_count": 11,
   "metadata": {},
   "outputs": [
    {
     "data": {
      "text/plain": [
       "SVC(C=1.0, break_ties=False, cache_size=200, class_weight=None, coef0=0.0,\n",
       "    decision_function_shape='ovr', degree=3, gamma='scale', kernel='rbf',\n",
       "    max_iter=-1, probability=False, random_state=101, shrinking=True, tol=0.001,\n",
       "    verbose=False)"
      ]
     },
     "execution_count": 11,
     "metadata": {},
     "output_type": "execute_result"
    }
   ],
   "source": [
    "model_svm = SVC(random_state=101)\n",
    "model_svm.fit(X_train, Y_train)"
   ]
  },
  {
   "cell_type": "code",
   "execution_count": 12,
   "metadata": {},
   "outputs": [
    {
     "name": "stdout",
     "output_type": "stream",
     "text": [
      "[0]\n"
     ]
    }
   ],
   "source": [
    "pred_3 = model_svm.predict([[39,6,13,4,0,2174,0,40,38]])\n",
    "print(pred_3)"
   ]
  },
  {
   "cell_type": "markdown",
   "metadata": {},
   "source": [
    "## Error Analysis"
   ]
  },
  {
   "cell_type": "code",
   "execution_count": 13,
   "metadata": {},
   "outputs": [],
   "source": [
    "from sklearn.metrics import accuracy_score, precision_score, recall_score"
   ]
  },
  {
   "cell_type": "code",
   "execution_count": 14,
   "metadata": {},
   "outputs": [],
   "source": [
    "X_sets = [X_train, X_dev, X_test]\n",
    "Y_sets = [Y_train, Y_dev, Y_test]"
   ]
  },
  {
   "cell_type": "code",
   "execution_count": 15,
   "metadata": {},
   "outputs": [],
   "source": [
    "metrics = {\"NB\":{\"Acc\":[],\"Pre\":[],\"Rec\":[]},\n",
    "           \"DT\":{\"Acc\":[],\"Pre\":[],\"Rec\":[]},\n",
    "           \"SVM\":{\"Acc\":[],\"Pre\":[],\"Rec\":[]}}"
   ]
  },
  {
   "cell_type": "code",
   "execution_count": 16,
   "metadata": {},
   "outputs": [],
   "source": [
    "for i in range(0,len(X_sets)):\n",
    "    pred_NB = model_NB.predict(X_sets[i])\n",
    "    metrics[\"NB\"][\"Acc\"].append(accuracy_score(Y_sets[i], pred_NB))\n",
    "    metrics[\"NB\"][\"Pre\"].append(precision_score(Y_sets[i], pred_NB))\n",
    "    metrics[\"NB\"][\"Rec\"].append(recall_score(Y_sets[i], pred_NB))\n",
    "\n",
    "    pred_tree = model_tree.predict(X_sets[i])\n",
    "    metrics[\"DT\"][\"Acc\"].append(accuracy_score(Y_sets[i], pred_tree))\n",
    "    metrics[\"DT\"][\"Pre\"].append(precision_score(Y_sets[i], pred_tree))\n",
    "    metrics[\"DT\"][\"Rec\"].append(recall_score(Y_sets[i], pred_tree))\n",
    "\n",
    "    pred_svm = model_svm.predict(X_sets[i])\n",
    "    metrics[\"SVM\"][\"Acc\"].append(accuracy_score(Y_sets[i], pred_svm))\n",
    "    metrics[\"SVM\"][\"Pre\"].append(precision_score(Y_sets[i], pred_svm))\n",
    "    metrics[\"SVM\"][\"Rec\"].append(recall_score(Y_sets[i], pred_svm))"
   ]
  },
  {
   "cell_type": "code",
   "execution_count": 17,
   "metadata": {},
   "outputs": [
    {
     "data": {
      "text/plain": [
       "{'NB': {'Acc': [0.7970975544208546, 0.7902978200798281, 0.8084126496776174],\n",
       "  'Pre': [0.6683725690890481, 0.6816901408450704, 0.6873239436619718],\n",
       "  'Rec': [0.3123405612244898, 0.29802955665024633, 0.32232496697490093]},\n",
       " 'DT': {'Acc': [0.9723960532882866, 0.8114829597789377, 0.8234571691740866],\n",
       "  'Pre': [0.9827856025039123, 0.6316489361702128, 0.6226415094339622],\n",
       "  'Rec': [0.9011479591836735, 0.5849753694581281, 0.6103038309114928]},\n",
       " 'SVM': {'Acc': [0.8024724536414942, 0.7958243782622045, 0.8099478047282775],\n",
       "  'Pre': [0.7411210954214805, 0.7474747474747475, 0.7429577464788732],\n",
       "  'Rec': [0.27614795918367346, 0.2733990147783251, 0.27873183619550856]}}"
      ]
     },
     "execution_count": 17,
     "metadata": {},
     "output_type": "execute_result"
    }
   ],
   "source": [
    "print(metrics)"
   ]
  }
 ],
 "metadata": {
  "kernelspec": {
   "display_name": "Python 3",
   "language": "python",
   "name": "python3"
  },
  "language_info": {
   "codemirror_mode": {
    "name": "ipython",
    "version": 3
   },
   "file_extension": ".py",
   "mimetype": "text/x-python",
   "name": "python",
   "nbconvert_exporter": "python",
   "pygments_lexer": "ipython3",
   "version": "3.7.3"
  }
 },
 "nbformat": 4,
 "nbformat_minor": 2
}
