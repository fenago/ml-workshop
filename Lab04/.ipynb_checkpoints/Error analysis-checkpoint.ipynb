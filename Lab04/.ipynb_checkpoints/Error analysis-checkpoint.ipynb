{
 "cells": [
  {
   "cell_type": "markdown",
   "metadata": {},
   "source": [
    "## Activity 4.01"
   ]
  },
  {
   "cell_type": "code",
   "execution_count": null,
   "metadata": {},
   "outputs": [],
   "source": [
    "import pandas as pd\n",
    "from sklearn.model_selection import train_test_split\n",
    "from sklearn.naive_bayes import GaussianNB"
   ]
  },
  {
   "cell_type": "code",
   "execution_count": null,
   "metadata": {},
   "outputs": [],
   "source": [
    "data = pd.read_csv(\"census_income_dataset_preprocessed.csv\")"
   ]
  },
  {
   "cell_type": "code",
   "execution_count": null,
   "metadata": {},
   "outputs": [],
   "source": [
    "X = data.drop(\"target\", axis=1)\n",
    "Y = data[\"target\"]"
   ]
  },
  {
   "cell_type": "code",
   "execution_count": null,
   "metadata": {},
   "outputs": [],
   "source": [
    "X_new, X_test, Y_new, Y_test = train_test_split(X, Y, test_size=0.1, random_state=101)\n",
    "test_size = X_test.shape[0] / X_new.shape[0]\n",
    "X_train, X_dev, Y_train, Y_dev = train_test_split(X_new, Y_new, test_size=test_size, random_state=101)\n",
    "print(X_train.shape, Y_train.shape, X_dev.shape, Y_dev.shape, X_test.shape, Y_test.shape)"
   ]
  },
  {
   "cell_type": "code",
   "execution_count": null,
   "metadata": {},
   "outputs": [],
   "source": [
    "model_NB = GaussianNB()\n",
    "model_NB.fit(X_train, Y_train)"
   ]
  },
  {
   "cell_type": "code",
   "execution_count": null,
   "metadata": {},
   "outputs": [],
   "source": [
    "pred_1 = model_NB.predict([[39,6,13,4,0,2174,0,40,38]])\n",
    "print(pred_1)"
   ]
  },
  {
   "cell_type": "markdown",
   "metadata": {},
   "source": [
    "## Activity 4.02"
   ]
  },
  {
   "cell_type": "code",
   "execution_count": null,
   "metadata": {},
   "outputs": [],
   "source": [
    "from sklearn.tree import DecisionTreeClassifier"
   ]
  },
  {
   "cell_type": "code",
   "execution_count": null,
   "metadata": {},
   "outputs": [],
   "source": [
    "model_tree = DecisionTreeClassifier(random_state=101)\n",
    "model_tree.fit(X_train, Y_train)"
   ]
  },
  {
   "cell_type": "code",
   "execution_count": null,
   "metadata": {},
   "outputs": [],
   "source": [
    "pred_2 = model_tree.predict([[39,6,13,4,0,2174,0,40,38]])\n",
    "print(pred_2)"
   ]
  },
  {
   "cell_type": "markdown",
   "metadata": {},
   "source": [
    "## Activity 4.03"
   ]
  },
  {
   "cell_type": "code",
   "execution_count": null,
   "metadata": {},
   "outputs": [],
   "source": [
    "from sklearn.svm import SVC"
   ]
  },
  {
   "cell_type": "code",
   "execution_count": null,
   "metadata": {},
   "outputs": [],
   "source": [
    "model_svm = SVC(random_state=101)\n",
    "model_svm.fit(X_train, Y_train)"
   ]
  },
  {
   "cell_type": "code",
   "execution_count": null,
   "metadata": {},
   "outputs": [],
   "source": [
    "pred_3 = model_svm.predict([[39,6,13,4,0,2174,0,40,38]])\n",
    "print(pred_3)"
   ]
  },
  {
   "cell_type": "markdown",
   "metadata": {},
   "source": [
    "## Error Analysis"
   ]
  },
  {
   "cell_type": "code",
   "execution_count": null,
   "metadata": {},
   "outputs": [],
   "source": [
    "from sklearn.metrics import accuracy_score, precision_score, recall_score"
   ]
  },
  {
   "cell_type": "code",
   "execution_count": null,
   "metadata": {},
   "outputs": [],
   "source": [
    "X_sets = [X_train, X_dev, X_test]\n",
    "Y_sets = [Y_train, Y_dev, Y_test]"
   ]
  },
  {
   "cell_type": "code",
   "execution_count": null,
   "metadata": {},
   "outputs": [],
   "source": [
    "metrics = {\"NB\":{\"Acc\":[],\"Pre\":[],\"Rec\":[]},\n",
    "           \"DT\":{\"Acc\":[],\"Pre\":[],\"Rec\":[]},\n",
    "           \"SVM\":{\"Acc\":[],\"Pre\":[],\"Rec\":[]}}"
   ]
  },
  {
   "cell_type": "code",
   "execution_count": null,
   "metadata": {},
   "outputs": [],
   "source": [
    "for i in range(0,len(X_sets)):\n",
    "    pred_NB = model_NB.predict(X_sets[i])\n",
    "    metrics[\"NB\"][\"Acc\"].append(accuracy_score(Y_sets[i], pred_NB))\n",
    "    metrics[\"NB\"][\"Pre\"].append(precision_score(Y_sets[i], pred_NB))\n",
    "    metrics[\"NB\"][\"Rec\"].append(recall_score(Y_sets[i], pred_NB))\n",
    "\n",
    "    pred_tree = model_tree.predict(X_sets[i])\n",
    "    metrics[\"DT\"][\"Acc\"].append(accuracy_score(Y_sets[i], pred_tree))\n",
    "    metrics[\"DT\"][\"Pre\"].append(precision_score(Y_sets[i], pred_tree))\n",
    "    metrics[\"DT\"][\"Rec\"].append(recall_score(Y_sets[i], pred_tree))\n",
    "\n",
    "    pred_svm = model_svm.predict(X_sets[i])\n",
    "    metrics[\"SVM\"][\"Acc\"].append(accuracy_score(Y_sets[i], pred_svm))\n",
    "    metrics[\"SVM\"][\"Pre\"].append(precision_score(Y_sets[i], pred_svm))\n",
    "    metrics[\"SVM\"][\"Rec\"].append(recall_score(Y_sets[i], pred_svm))"
   ]
  },
  {
   "cell_type": "code",
   "execution_count": null,
   "metadata": {},
   "outputs": [],
   "source": [
    "print(metrics)"
   ]
  }
 ],
 "metadata": {
  "kernelspec": {
   "display_name": "Python 3",
   "language": "python",
   "name": "python3"
  },
  "language_info": {
   "codemirror_mode": {
    "name": "ipython",
    "version": 3
   },
   "file_extension": ".py",
   "mimetype": "text/x-python",
   "name": "python",
   "nbconvert_exporter": "python",
   "pygments_lexer": "ipython3",
   "version": "3.8.6"
  }
 },
 "nbformat": 4,
 "nbformat_minor": 2
}
