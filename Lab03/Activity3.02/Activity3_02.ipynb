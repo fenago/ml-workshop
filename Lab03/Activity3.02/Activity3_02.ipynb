{
 "cells": [
  {
   "cell_type": "code",
   "execution_count": 1,
   "metadata": {},
   "outputs": [],
   "source": [
    "from sklearn.datasets import load_digits\n",
    "import pandas as pd\n",
    "from sklearn.model_selection import train_test_split\n",
    "from sklearn import tree\n",
    "from sklearn.metrics import confusion_matrix\n",
    "from sklearn.metrics import accuracy_score\n",
    "from sklearn.metrics import precision_score\n",
    "from sklearn.metrics import recall_score"
   ]
  },
  {
   "cell_type": "code",
   "execution_count": 2,
   "metadata": {},
   "outputs": [],
   "source": [
    "digits = load_digits()\n",
    "X = pd.DataFrame(digits.data)\n",
    "Y = pd.DataFrame(digits.target)"
   ]
  },
  {
   "cell_type": "code",
   "execution_count": 3,
   "metadata": {},
   "outputs": [],
   "source": [
    "X_train, X_test, Y_train, Y_test = train_test_split(X, Y, test_size=0.2, random_state=0)"
   ]
  },
  {
   "cell_type": "code",
   "execution_count": 4,
   "metadata": {},
   "outputs": [],
   "source": [
    "model = tree.DecisionTreeClassifier(random_state=0)\n",
    "model = model.fit(X_train, Y_train)\n",
    "Y_pred = model.predict(X_test)"
   ]
  },
  {
   "cell_type": "markdown",
   "metadata": {},
   "source": [
    "## Confusion Matrix"
   ]
  },
  {
   "cell_type": "code",
   "execution_count": 5,
   "metadata": {},
   "outputs": [
    {
     "data": {
      "text/plain": [
       "array([[24,  0,  0,  0,  0,  0,  1,  0,  0,  2],\n",
       "       [ 0, 31,  0,  2,  1,  0,  1,  0,  0,  0],\n",
       "       [ 1,  0, 29,  0,  0,  0,  2,  2,  1,  1],\n",
       "       [ 0,  0,  2, 27,  0,  0,  0,  0,  0,  0],\n",
       "       [ 1,  1,  0,  0, 26,  0,  1,  1,  0,  0],\n",
       "       [ 0,  1,  1,  0,  0, 34,  0,  0,  1,  3],\n",
       "       [ 1,  1,  1,  1,  1,  0, 39,  0,  0,  0],\n",
       "       [ 0,  0,  0,  0,  0,  1,  1, 37,  0,  0],\n",
       "       [ 1,  3,  3,  5,  0,  1,  0,  1, 24,  1],\n",
       "       [ 0,  0,  1,  4,  0,  1,  0,  0,  1, 34]])"
      ]
     },
     "execution_count": 5,
     "metadata": {},
     "output_type": "execute_result"
    }
   ],
   "source": [
    "confusion_matrix(Y_test, Y_pred)"
   ]
  },
  {
   "cell_type": "markdown",
   "metadata": {},
   "source": [
    "## Accuracy"
   ]
  },
  {
   "cell_type": "code",
   "execution_count": 6,
   "metadata": {},
   "outputs": [
    {
     "name": "stdout",
     "output_type": "stream",
     "text": [
      "accuracy: 0.8472222222222222\n"
     ]
    }
   ],
   "source": [
    "accuracy = accuracy_score(Y_test, Y_pred)\n",
    "print(\"accuracy:\", accuracy)"
   ]
  },
  {
   "cell_type": "markdown",
   "metadata": {},
   "source": [
    "## Precision and Recall"
   ]
  },
  {
   "cell_type": "code",
   "execution_count": 7,
   "metadata": {},
   "outputs": [],
   "source": [
    "Y_test_2 = Y_test[:]\n",
    "Y_test_2[Y_test_2 != 6] = 1\n",
    "Y_test_2[Y_test_2 == 6] = 0\n",
    "\n",
    "Y_pred_2 = Y_pred\n",
    "Y_pred_2[Y_pred_2 != 6] = 1\n",
    "Y_pred_2[Y_pred_2 == 6] = 0"
   ]
  },
  {
   "cell_type": "code",
   "execution_count": 8,
   "metadata": {},
   "outputs": [
    {
     "name": "stdout",
     "output_type": "stream",
     "text": [
      "precision: 0.9841269841269841\n"
     ]
    }
   ],
   "source": [
    "precision = precision_score(Y_test_2, Y_pred_2)\n",
    "print(\"precision:\", precision)"
   ]
  },
  {
   "cell_type": "code",
   "execution_count": 9,
   "metadata": {},
   "outputs": [
    {
     "name": "stdout",
     "output_type": "stream",
     "text": [
      "recall: 0.9810126582278481\n"
     ]
    }
   ],
   "source": [
    "recall = recall_score(Y_test_2, Y_pred_2)\n",
    "print(\"recall:\", recall)"
   ]
  }
 ],
 "metadata": {
  "kernelspec": {
   "display_name": "Python 3",
   "language": "python",
   "name": "python3"
  },
  "language_info": {
   "codemirror_mode": {
    "name": "ipython",
    "version": 3
   },
   "file_extension": ".py",
   "mimetype": "text/x-python",
   "name": "python",
   "nbconvert_exporter": "python",
   "pygments_lexer": "ipython3",
   "version": "3.7.3"
  }
 },
 "nbformat": 4,
 "nbformat_minor": 2
}
