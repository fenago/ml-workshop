{
 "cells": [
  {
   "cell_type": "code",
   "execution_count": 1,
   "metadata": {},
   "outputs": [
    {
     "name": "stdout",
     "output_type": "stream",
     "text": [
      "importing Jupyter notebook from Exercise3_04.ipynb\n"
     ]
    },
    {
     "name": "stderr",
     "output_type": "stream",
     "text": [
      "...."
     ]
    },
    {
     "name": "stdout",
     "output_type": "stream",
     "text": [
      "MAE: 3.9357920841193073\n",
      "RMSE: 6.45945634367613\n"
     ]
    },
    {
     "name": "stderr",
     "output_type": "stream",
     "text": [
      "\n",
      "----------------------------------------------------------------------\n",
      "Ran 4 tests in 0.890s\n",
      "\n",
      "OK\n"
     ]
    }
   ],
   "source": [
    "import unittest\n",
    "import numpy as np\n",
    "import pandas as pd\n",
    "import numpy.testing as np_testing\n",
    "import pandas.testing as pd_testing\n",
    "import os\n",
    "import import_ipynb\n",
    "from sklearn.datasets import load_boston\n",
    "from sklearn.model_selection import train_test_split\n",
    "from sklearn import linear_model\n",
    "from sklearn.metrics import mean_absolute_error\n",
    "from sklearn.metrics import mean_squared_error\n",
    "import sys\n",
    "\n",
    "\n",
    "class Test(unittest.TestCase):\n",
    "\n",
    "    def _dirname_if_file(self, filename):\n",
    "        if os.path.isdir(filename):\n",
    "            return filename\n",
    "        else:\n",
    "            return os.path.dirname(os.path.abspath(filename))\n",
    "\n",
    "    def setUp(self):    \n",
    "        import Exercise3_04\n",
    "        self.exercise = Exercise3_04\n",
    "       \n",
    "        self.data = load_boston()\n",
    "        self.X = pd.DataFrame(self.data.data)\n",
    "        self.Y = pd.DataFrame(self.data.target)\n",
    "\n",
    "        self.X_train, self.X_test, self.Y_train, self.Y_test = train_test_split(self.X,self.Y, test_size=0.1, random_state=0)\n",
    "\n",
    "        self.model = linear_model.LinearRegression()\n",
    "        self.model = self.model.fit(self.X_train, self.Y_train)\n",
    "        self.Y_pred = self.model.predict(self.X_test)\n",
    "\n",
    "        \n",
    "    def test_input_frames(self):\n",
    "        np_testing.assert_equal(self.exercise.data.data, self.data.data)\n",
    "\n",
    "\n",
    "    def test_model_prediction(self):     \n",
    "        self.exercise_Y_pred = self.exercise.model.predict(self.X_test)\n",
    "\n",
    "        np_testing.assert_almost_equal(self.Y_pred, self.exercise.Y_pred, decimal=0)\n",
    "\n",
    "\n",
    "    def test_model_MAE(self):\n",
    "        self.MAE = mean_absolute_error(self.Y_test, self.Y_pred)\n",
    "\n",
    "        np_testing.assert_almost_equal(self.MAE, self.exercise.MAE, decimal=1)\n",
    "\n",
    "\n",
    "    def test_model_RMSE(self):\n",
    "        self.RMSE = np.sqrt(mean_squared_error(self.Y_test, self.Y_pred))\n",
    "        np_testing.assert_almost_equal(self.RMSE, self.exercise.RMSE, decimal=0)\n",
    "\n",
    "\n",
    "\n",
    "if __name__ == '__main__':\n",
    "    unittest.main(argv=['first-arg-is-ignored'], exit=False)"
   ]
  }
 ],
 "metadata": {
  "anaconda-cloud": {},
  "kernelspec": {
   "display_name": "Python 3",
   "language": "python",
   "name": "python3"
  },
  "language_info": {
   "codemirror_mode": {
    "name": "ipython",
    "version": 3
   },
   "file_extension": ".py",
   "mimetype": "text/x-python",
   "name": "python",
   "nbconvert_exporter": "python",
   "pygments_lexer": "ipython3",
   "version": "3.7.3"
  }
 },
 "nbformat": 4,
 "nbformat_minor": 1
}
