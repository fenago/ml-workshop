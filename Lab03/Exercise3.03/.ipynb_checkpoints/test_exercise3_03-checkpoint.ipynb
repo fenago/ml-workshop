{
 "cells": [
  {
   "cell_type": "code",
   "execution_count": 1,
   "metadata": {},
   "outputs": [
    {
     "name": "stderr",
     "output_type": "stream",
     "text": [
      "..."
     ]
    },
    {
     "name": "stdout",
     "output_type": "stream",
     "text": [
      "importing Jupyter notebook from Exercise3_03.ipynb\n",
      "accuracy: 0.8771929824561403\n",
      "precision: 0.9666666666666667\n",
      "recall: 0.8285714285714286\n"
     ]
    },
    {
     "name": "stderr",
     "output_type": "stream",
     "text": [
      ".\n",
      "----------------------------------------------------------------------\n",
      "Ran 4 tests in 0.234s\n",
      "\n",
      "OK\n"
     ]
    }
   ],
   "source": [
    "import unittest\n",
    "import numpy as np\n",
    "import pandas as pd\n",
    "import numpy.testing as np_testing\n",
    "import pandas.testing as pd_testing\n",
    "import os\n",
    "import import_ipynb\n",
    "from sklearn.datasets import load_breast_cancer\n",
    "from sklearn.model_selection import train_test_split\n",
    "from sklearn import tree\n",
    "from sklearn.metrics import confusion_matrix\n",
    "from sklearn.metrics import accuracy_score\n",
    "from sklearn.metrics import precision_score\n",
    "from sklearn.metrics import recall_score\n",
    "import sys\n",
    "\n",
    "class Test(unittest.TestCase):\n",
    "\n",
    "    def _dirname_if_file(self, filename):\n",
    "        if os.path.isdir(filename):\n",
    "            return filename\n",
    "        else:\n",
    "            return os.path.dirname(os.path.abspath(filename))\n",
    "\n",
    "    def setUp(self):\n",
    "        import Exercise3_03\n",
    "        self.exercise = Exercise3_03\n",
    "       \n",
    "        self.data = load_breast_cancer()\n",
    "        self.X = pd.DataFrame(self.data.data)\n",
    "        self.Y = pd.DataFrame(self.data.target)\n",
    "\n",
    "        self.X_train, self.X_test, self.Y_train, self.Y_test = train_test_split(self.X,self.Y, test_size=0.1, random_state=0)\n",
    "\n",
    "        self.model = tree.DecisionTreeClassifier(random_state=0)\n",
    "        self.model = self.model.fit(self.X_train, self.Y_train)\n",
    "        self.Y_pred = self.model.predict(self.X_test)\n",
    "\n",
    "        \n",
    "    def test_input_frames(self):\n",
    "        np_testing.assert_equal(self.exercise.data.data, self.data.data)\n",
    "\n",
    "\n",
    "    def test_model_prediction(self):     \n",
    "        self.exercise_Y_pred = self.exercise.model.predict(self.X_test)\n",
    "\n",
    "        np_testing.assert_almost_equal(self.Y_pred, self.exercise_Y_pred, decimal=1)\n",
    "\n",
    "\n",
    "    def test_model_precision(self):\n",
    "        self.Y_test_2 = self.Y_test[:]\n",
    "        self.Y_test_2[self.Y_test_2 != 6] = 1\n",
    "        self.Y_test_2[self.Y_test_2 == 6] = 0\n",
    "\n",
    "        self.Y_pred_2 = self.Y_pred\n",
    "        self.Y_pred_2[self.Y_pred_2 != 6] = 1\n",
    "        self.Y_pred_2[self.Y_pred_2 == 6] = 0\n",
    "\n",
    "        self.precision = precision_score(self.Y_test_2, self.Y_pred_2)\n",
    "\n",
    "        np_testing.assert_almost_equal(self.precision, self.exercise.precision, decimal=1)\n",
    "\n",
    "\n",
    "    def test_model_recall(self):\n",
    "        self.Y_test_2 = self.Y_test[:]\n",
    "        self.Y_test_2[self.Y_test_2 != 6] = 1\n",
    "        self.Y_test_2[self.Y_test_2 == 6] = 0\n",
    "\n",
    "        self.Y_pred_2 = self.Y_pred\n",
    "        self.Y_pred_2[self.Y_pred_2 != 6] = 1\n",
    "        self.Y_pred_2[self.Y_pred_2 == 6] = 0\n",
    "        self.recall = recall_score(self.Y_test_2, self.Y_pred_2)\n",
    "        np_testing.assert_almost_equal(self.recall, self.exercise.recall, decimal=0)\n",
    "\n",
    "\n",
    "\n",
    "if __name__ == '__main__':\n",
    "    unittest.main(argv=['first-arg-is-ignored'], exit=False)"
   ]
  }
 ],
 "metadata": {
  "anaconda-cloud": {},
  "kernelspec": {
   "display_name": "Python 3",
   "language": "python",
   "name": "python3"
  },
  "language_info": {
   "codemirror_mode": {
    "name": "ipython",
    "version": 3
   },
   "file_extension": ".py",
   "mimetype": "text/x-python",
   "name": "python",
   "nbconvert_exporter": "python",
   "pygments_lexer": "ipython3",
   "version": "3.7.3"
  }
 },
 "nbformat": 4,
 "nbformat_minor": 1
}
