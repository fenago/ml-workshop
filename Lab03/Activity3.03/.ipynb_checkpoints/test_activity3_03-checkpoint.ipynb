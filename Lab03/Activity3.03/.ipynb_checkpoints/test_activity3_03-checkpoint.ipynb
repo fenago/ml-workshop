{
 "cells": [
  {
   "cell_type": "code",
   "execution_count": 1,
   "metadata": {},
   "outputs": [
    {
     "name": "stderr",
     "output_type": "stream",
     "text": [
      "."
     ]
    },
    {
     "name": "stdout",
     "output_type": "stream",
     "text": [
      "importing Jupyter notebook from Activity3_03.ipynb\n",
      "(1437, 64) (1437, 1) (180, 64) (180, 1) (180, 64) (180, 1)\n",
      "(180, 64) (180, 1)\n",
      "{'Training': 1.0, 'Train/dev': 0.9444444444444444, 'Validation': 0.8833333333333333, 'Testing': 0.8833333333333333}\n"
     ]
    },
    {
     "name": "stderr",
     "output_type": "stream",
     "text": [
      "."
     ]
    },
    {
     "name": "stdout",
     "output_type": "stream",
     "text": [
      "{'Training': 1.0, 'Train/dev': 0.9444444444444444, 'Validation': 0.8833333333333333, 'Testing': 0.8833333333333333}\n"
     ]
    },
    {
     "name": "stderr",
     "output_type": "stream",
     "text": [
      "\n",
      "----------------------------------------------------------------------\n",
      "Ran 2 tests in 0.225s\n",
      "\n",
      "OK\n"
     ]
    }
   ],
   "source": [
    "import unittest\n",
    "import numpy as np\n",
    "import pandas as pd\n",
    "import numpy.testing as np_testing\n",
    "import pandas.testing as pd_testing\n",
    "import os\n",
    "import import_ipynb\n",
    "from sklearn.datasets import load_digits\n",
    "from sklearn.model_selection import train_test_split\n",
    "from sklearn import tree\n",
    "from sklearn.metrics import accuracy_score\n",
    "import sys\n",
    "\n",
    "\n",
    "class Test(unittest.TestCase):\n",
    "\n",
    "    def _dirname_if_file(self, filename):\n",
    "        if os.path.isdir(filename):\n",
    "            return filename\n",
    "        else:\n",
    "            return os.path.dirname(os.path.abspath(filename))\n",
    "\n",
    "    def setUp(self):    \n",
    "        import Activity3_03\n",
    "        self.activity = Activity3_03\n",
    "       \n",
    "        self.digits = load_digits()\n",
    "\n",
    "        \n",
    "    def test_input_frames(self):\n",
    "        np_testing.assert_equal(self.activity.digits.data, self.digits.data)\n",
    "\n",
    "    def test_model(self):\n",
    "        self.X = pd.DataFrame(self.digits.data)\n",
    "        self.Y = pd.DataFrame(self.digits.target)\n",
    "\n",
    "        self.X_new, self.X_test, self.Y_new, self.Y_test = train_test_split(self.X, self.Y, test_size=0.1, random_state=101)\n",
    "        self.test_size = self.X_test.shape[0] / self.X_new.shape[0]\n",
    "        self.X_train, self.X_dev, self.Y_train, self.Y_dev = train_test_split(self.X_new, self.Y_new, test_size=self.test_size, random_state=101)\n",
    "\n",
    "        np.random.seed(101)\n",
    "\n",
    "        self.indices_train = np.random.randint(0,len(self.X_train),90)\n",
    "        self.indices_dev = np.random.randint(0,len(self.X_dev),90)\n",
    "\n",
    "        self.X_train_dev = pd.concat([self.X_train.iloc[self.indices_train,:],self.X_dev.iloc[self.indices_dev,:]])\n",
    "        self.Y_train_dev = pd.concat([self.Y_train.iloc[self.indices_train,:],self.Y_dev.iloc[self.indices_dev,:]])\n",
    "\n",
    "        self.model = tree.DecisionTreeClassifier(random_state=101)\n",
    "        self.model = self.model.fit(self.X_train, self.Y_train)\n",
    "\n",
    "        self.sets = [\"Training\", \"Train/dev\", \"Validation\", \"Testing\"]\n",
    "        self.X_sets = [self.X_train, self.X_train_dev, self.X_dev, self.X_test]\n",
    "        self.Y_sets = [self.Y_train, self.Y_train_dev, self.Y_dev, self.Y_test]\n",
    "\n",
    "        self.scores = {}\n",
    "        for i in range(0,len(self.X_sets)):\n",
    "            self.pred = self.model.predict(self.X_sets[i])\n",
    "            self.score = accuracy_score(self.Y_sets[i],self.pred)\n",
    "            self.scores[self.sets[i]] = self.score\n",
    "\n",
    "        print(self.activity.scores)\n",
    "\n",
    "if __name__ == '__main__':\n",
    "    unittest.main(argv=['first-arg-is-ignored'], exit=False)"
   ]
  }
 ],
 "metadata": {
  "anaconda-cloud": {},
  "kernelspec": {
   "display_name": "Python 3",
   "language": "python",
   "name": "python3"
  },
  "language_info": {
   "codemirror_mode": {
    "name": "ipython",
    "version": 3
   },
   "file_extension": ".py",
   "mimetype": "text/x-python",
   "name": "python",
   "nbconvert_exporter": "python",
   "pygments_lexer": "ipython3",
   "version": "3.7.3"
  }
 },
 "nbformat": 4,
 "nbformat_minor": 1
}
